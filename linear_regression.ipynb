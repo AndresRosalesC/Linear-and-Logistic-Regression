{
 "cells": [
  {
   "cell_type": "markdown",
   "metadata": {},
   "source": [
    "# Linear Regression\n",
    "\n",
    "Let's assume that the house price is related to two factors, i.e. house size and number of bedrooms. We can use a multi-variate linear regression model to fit the data. The model is y=$\\theta$<sub>0</sub>+$\\theta$<sub>1</sub>x<sub>1</sub>+$\\theta$<sub>2</sub>x<sub>2</sub> where y is the predicted house price, x<sub>1</sub> is the house size and x<sub>2</sub> is the number of bedrooms. Let's estimate the parameters $\\theta$<sub>0</sub>, $\\theta$<sub>1</sub> and $\\theta$<sub>2</sub> of the model given the data points below:\n",
    "\n",
    "House Size (sqft), x<sub>1</sub>|Number of Bedrooms, x<sub>2</sub> | House Price (CAD), y\n",
    "-----|-----|----- \n",
    "2132|3|499040\n",
    "2258|3|526760\n",
    "1642|2|371240\n",
    "1332|2|303040\n",
    "1743|3|413460\n",
    "2456|3|570320\n",
    "2688|4|641360\n",
    "2842|4|675240\n",
    "3012|5|732640\n",
    "1437|2|326140\n",
    "1285|2|292700\n",
    "1129|1|238380\n",
    "2524|3|585280\n",
    "3313|5|798860\n",
    "3523|5|845060"
   ]
  },
  {
   "cell_type": "markdown",
   "metadata": {},
   "source": [
    "Let's use the normal equation to find the parameters of the linear regression model that describes the relationship between output y and input features x<sub>1</sub> and x<sub>2</sub>."
   ]
  },
  {
   "cell_type": "code",
   "execution_count": 1,
   "metadata": {},
   "outputs": [
    {
     "name": "stdout",
     "output_type": "stream",
     "text": [
      "theta_0= -30000.0 theta_1= 220.0 theta_2= 20000.0\n",
      "\n",
      "y=-30000.000+220.000*X1+20000.000*X2\n",
      "r2 score for model is 1.0\n",
      "If x1=2900, x2=3 the y value is: 667999.9999999976\n"
     ]
    }
   ],
   "source": [
    "import numpy as np\n",
    "np.random.seed(1)\n",
    "#===== get the parameters of the model=====[2 marks]\n",
    "x1 = [2132, 2258, 1642, 1332, 1743, 2456, 2688, 2842, 3012, 1437, 1285, 1129, 2524, 3313, 3523]\n",
    "x2 = [3, 3, 2, 2, 3, 3, 4, 4, 5, 2, 2, 1, 3, 5, 5]\n",
    "y= [499040, 526760, 371240, 303040, 413460, 570320, 641360, 675240, 732640, 326140, 292700, 238380, 585280, 798860, 845060]\n",
    "\n",
    "x1 = np.array(x1)\n",
    "x2 = np.array(x2)\n",
    "y = np.array(y) \n",
    "\n",
    "X = np.stack([np.ones(x1.shape), x1, x2]).T \n",
    "theta = np.linalg.inv(X.T.dot(X)).dot(X.T).dot(y) #define the normal equation theta=(XTX)^(-1XTY)\n",
    "\n",
    "print(\"theta_0=\", round(theta[0],2),\n",
    "      \"theta_1=\", round(theta[1],2),\n",
    "      \"theta_2=\", round(theta[2],2))\n",
    "\n",
    "print('\\ny={:.3f}+{:.3f}*X1+{:.3f}*X2'.format(theta[0],theta[1],theta[2]))\n",
    "\n",
    "#=====R^2 of the model on the given data=====[1 mark]\n",
    "from sklearn.metrics import r2_score\n",
    "y_pred=theta[0]+theta[1]*x1+theta[2]*x2\n",
    "r2 = r2_score(y, y_pred)\n",
    "print('r2 score for model is', r2)\n",
    "\n",
    "#=====Predict of y if x1=2900 and x2=3=====[1mark]\n",
    "prediction = theta[0] + theta[1]*2900 + theta[2]*3\n",
    "print(\"If x1=2900, x2=3 the y value is:\", prediction)"
   ]
  },
  {
   "cell_type": "markdown",
   "metadata": {},
   "source": [
    "Now we'll Implement gradient descent to find the parameters of the linear regression model that describes the relationship between output y and input features x<sub>1</sub> and x<sub>2</sub>."
   ]
  },
  {
   "cell_type": "code",
   "execution_count": 2,
   "metadata": {},
   "outputs": [
    {
     "name": "stdout",
     "output_type": "stream",
     "text": [
      "iteration 100000\n",
      "J: 0.8043738538045014\n",
      "theta_0: -29996.214600448246\n",
      "theta_1: 21999.53547359895\n",
      "theta_2: 20002.185367559163\n",
      "criterion: 0.00016652295055942756\n",
      "\n",
      "y=-29996.215+21999.535*X1+20002.185*X2\n",
      "r2 score for model is 0.9999999999539333\n",
      "If x1=2900, x2=3 the y value is: 667996.8702365988\n"
     ]
    }
   ],
   "source": [
    "import numpy as np\n",
    "import random\n",
    "\n",
    "#===== get the parameters of the model=====[2 Marks]\n",
    "x1 = [2132, 2258, 1642, 1332, 1743, 2456, 2688, 2842, 3012, 1437, 1285, 1129, 2524, 3313, 3523]\n",
    "x2 = [3, 3, 2, 2, 3, 3, 4, 4, 5, 2, 2, 1, 3, 5, 5]\n",
    "y= [499040, 526760, 371240, 303040, 413460, 570320, 641360, 675240, 732640, 326140, 292700, 238380, 585280, 798860, 845060]\n",
    "\n",
    "x1 = np.array(x1)\n",
    "x2 = np.array(x2)\n",
    "y = np.array(y) \n",
    "\n",
    "x1 = x1/100\n",
    "\n",
    "epsilon = 1e-5\n",
    "theta_0 = 0\n",
    "theta_1 = 0\n",
    "theta_2 = 0\n",
    "J = 10000\n",
    "lr = 0.001\n",
    "criterion = 10000\n",
    "m = x1.shape[0]\n",
    "iteration = 0\n",
    "\n",
    "theta_0_tmp = theta_0\n",
    "theta_1_tmp = theta_1\n",
    "theta_2_tmp = theta_2\n",
    "\n",
    "while criterion > epsilon and iteration < 100000:\n",
    "    J_tmp = J\n",
    "    theta_0_tmp = theta_0\n",
    "    theta_1_tmp = theta_1\n",
    "    theta_2_tmp = theta_2\n",
    "    theta_0 = theta_0_tmp - lr * np.mean(theta_0_tmp*1 + theta_1_tmp*x1 + theta_2_tmp*x2 - y)\n",
    "    theta_1 = theta_1_tmp - lr * np.mean((theta_0_tmp*1 + theta_1_tmp*x1 + theta_2_tmp*x2 - y)*x1)\n",
    "    theta_2 = theta_2_tmp - lr * np.mean((theta_0_tmp*1 + theta_1_tmp*x1 + theta_2_tmp*x2 - y)*x2)\n",
    "    J = 1/2*np.mean((theta_0 + theta_1*x1 + theta_2*x2 - y)**2)\n",
    "    criterion = np.abs((J-J_tmp)/J_tmp)\n",
    "    iteration += 1\n",
    "    if iteration % 100000 == 0:\n",
    "        print(\"iteration\", iteration)\n",
    "        print(\"J:\",J)\n",
    "        print(\"theta_0:\",theta_0)\n",
    "        print(\"theta_1:\",theta_1)\n",
    "        print(\"theta_2:\",theta_2)\n",
    "        print(\"criterion:\",criterion)\n",
    "print('\\ny={:.3f}+{:.3f}*X1+{:.3f}*X2'.format(theta_0,theta_1,theta_2))\n",
    "\n",
    "#=====R^2 of the model on the given data===== [1 Mark]\n",
    "from sklearn.metrics import r2_score\n",
    "y_pred=theta_0+theta_1*x1+theta_2*x2\n",
    "r2 = r2_score(y, y_pred)\n",
    "print('r2 score for model is', r2)\n",
    "\n",
    "#=====Predict of y if x1=2900 and x2=3=====[1 Mark]\n",
    "prediction = theta_0 + theta_1*2900/100 + theta_2*3\n",
    "print(\"If x1=2900, x2=3 the y value is:\", prediction)    "
   ]
  },
  {
   "cell_type": "markdown",
   "metadata": {},
   "source": [
    "Finally, let's use the package scikit-learn to find the parameters of the linear regression model that describes the relationship between output y and input features x<sub>1</sub> and x<sub>2</sub>."
   ]
  },
  {
   "cell_type": "code",
   "execution_count": 3,
   "metadata": {},
   "outputs": [
    {
     "name": "stdout",
     "output_type": "stream",
     "text": [
      "\n",
      "y=-30000.000+220.000*X1+20000.000*X2\n",
      "r2 score for model is 1.0\n",
      "If x1=2900, x2=3 the y value is: [668000.]\n"
     ]
    }
   ],
   "source": [
    "from sklearn.linear_model import LinearRegression\n",
    "import numpy as np\n",
    "#===== get the parameters of the model=====[2 Marks]\n",
    "x1 = [2132, 2258, 1642, 1332, 1743, 2456, 2688, 2842, 3012, 1437, 1285, 1129, 2524, 3313, 3523]\n",
    "x2 = [3, 3, 2, 2, 3, 3, 4, 4, 5, 2, 2, 1, 3, 5, 5]\n",
    "y= [499040, 526760, 371240, 303040, 413460, 570320, 641360, 675240, 732640, 326140, 292700, 238380, 585280, 798860, 845060]\n",
    "\n",
    "x1 = np.array(x1)\n",
    "x2 = np.array(x2)\n",
    "y = np.array(y)\n",
    "\n",
    "X = np.stack([np.ones(x1.shape), x1, x2]).T\n",
    "model = LinearRegression().fit(X, y)\n",
    "theta_1=model.coef_[1]\n",
    "theta_2=model.coef_[2]\n",
    "theta_0=model.intercept_\n",
    "print('\\ny={:.3f}+{:.3f}*X1+{:.3f}*X2'.format(theta_0,theta_1,theta_2))\n",
    "\n",
    "#=====R^2 of the model on the given data===== [1 Mark]\n",
    "from sklearn.metrics import r2_score\n",
    "y_pred=theta_0+theta_1*x1+theta_2*x2\n",
    "r2 = r2_score(y, y_pred)\n",
    "print('r2 score for model is', r2)\n",
    "\n",
    "#=====Predict of y if x1=2900 and x2=3=====[1 Mark]\n",
    "prediction = model.predict([[1, 2900, 3]])\n",
    "print(\"If x1=2900, x2=3 the y value is:\", prediction)  "
   ]
  }
 ],
 "metadata": {
  "interpreter": {
   "hash": "05284eed26b7c4d19e101a962ad50a81c80866d9b42ecab1d4657c0e9d113e09"
  },
  "kernelspec": {
   "display_name": "Python 3 (ipykernel)",
   "language": "python",
   "name": "python3"
  },
  "language_info": {
   "codemirror_mode": {
    "name": "ipython",
    "version": 3
   },
   "file_extension": ".py",
   "mimetype": "text/x-python",
   "name": "python",
   "nbconvert_exporter": "python",
   "pygments_lexer": "ipython3",
   "version": "3.10.8"
  }
 },
 "nbformat": 4,
 "nbformat_minor": 2
}
